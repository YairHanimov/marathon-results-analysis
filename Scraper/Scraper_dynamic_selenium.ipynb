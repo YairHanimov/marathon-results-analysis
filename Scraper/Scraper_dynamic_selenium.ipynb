{
 "cells": [
  {
   "cell_type": "markdown",
   "metadata": {},
   "source": [
    "# WIP - Dynamic - Selenium\n",
    "## IES - Python - Project\n",
    "### Marathon Results Analysis\n",
    "#### David Koubek, Jiri Zelenka"
   ]
  },
  {
   "cell_type": "markdown",
   "metadata": {},
   "source": [
    "#### Import required packages."
   ]
  },
  {
   "cell_type": "code",
   "execution_count": 1,
   "metadata": {},
   "outputs": [],
   "source": [
    "import requests # for robots check\n",
    "from bs4 import BeautifulSoup # prettify HTML\n",
    "from selenium import webdriver # scraping JS dynamic elements\n",
    "from time import sleep # for sleeping (slowing down) inside a function\n",
    "# from tqdm import tqdm\n",
    "# from IPython.core.debugger import Tracer"
   ]
  },
  {
   "cell_type": "markdown",
   "metadata": {},
   "source": [
    "### Robots.txt\n",
    "\n",
    "Are we allowed to scrape?"
   ]
  },
  {
   "cell_type": "code",
   "execution_count": 2,
   "metadata": {},
   "outputs": [
    {
     "data": {
      "text/plain": [
       "<Response [200]>"
      ]
     },
     "execution_count": 2,
     "metadata": {},
     "output_type": "execute_result"
    }
   ],
   "source": [
    "requests.get('https://www.runczech.com/robots.txt')"
   ]
  },
  {
   "cell_type": "markdown",
   "metadata": {},
   "source": [
    "The response 200 means the request was fulfilled. Let's look visually at the actual robots.txt file what is allowed and what's not."
   ]
  },
  {
   "cell_type": "code",
   "execution_count": 3,
   "metadata": {},
   "outputs": [
    {
     "name": "stdout",
     "output_type": "stream",
     "text": [
      "#\n",
      "# robots.txt\n",
      "#\n",
      "\n",
      "# exclude these directories\n",
      "User-agent: *\n",
      "Disallow: /srv/\n",
      "Disallow: /cgi/\n",
      "Allow: /srv/www/qf/*/ramjet/eventList\n",
      "Allow: /srv/www/qf/*/ramjet/eventVoucherList\n",
      "Allow: /srv/www/qf/*/ramjet/contactPage\n",
      "Allow: /srv/www/qf/*/ramjet/raceDetail\n",
      "Allow: /srv/www/qf/*/ramjet/leagueDetail\n",
      "Allow: /srv/www/qf/*/ramjet/results/list\n",
      "Allow: /srv/www/qf/*/ramjet/results/league\n",
      "Allow: /srv/www/qf/*/ramjet/results/league/detail\n",
      "Allow: /srv/www/qf/*/ramjet/resultsEventDetail\n",
      "Allow: /srv/www/qf/*/ramjet/resultsSubEventUserDetail\n",
      "Allow: /srv/www/qf/*/ramjet/resultsSubEventGroupDetail\n",
      "Allow: /srv/www/qf/*/ramjet/event/runnerList\n",
      "\n",
      "Sitemap: https://www.runczech.com/sitemap-cs.xml\n",
      "Sitemap: https://www.runczech.com/sitemap-en.xml\n",
      "Sitemap: https://www.runczech.com/sitemap-de.xml\n",
      "Sitemap: https://www.runczech.com/sitemap-it.xml\n",
      "Sitemap: https://www.runczech.com/sitemap-fr.xml\n",
      "Sitemap: https://www.runczech.com/sitemap-es.xml\n",
      "Sitemap: https://www.runczech.com/sitemap-pl.xml\n",
      "Sitemap: https://www.runczech.com/sitemap-zh.xml\n",
      "Sitemap: https://www.runczech.com/sitemap-ru.xml\n",
      "Sitemap: https://www.runczech.com/sitemap-hu.xml\n",
      "Sitemap: https://www.runczech.com/sitemap-ja.xml\n",
      "\n"
     ]
    }
   ],
   "source": [
    "print(requests.get('https://www.runczech.com/robots.txt').text)"
   ]
  },
  {
   "cell_type": "markdown",
   "metadata": {},
   "source": [
    "The \"resultsEventDetail\" which we desire to scrape is allowed which is good, we can proceed."
   ]
  },
  {
   "cell_type": "markdown",
   "metadata": {},
   "source": [
    "# Scraping JavaScript dynamic website\n",
    " - https://www.google.com/search?q=python+scrape+website+that+has+script+inside+html&oq=python+scrape+website+that+has+script+inside+html&aqs=chrome..69i57.14882j0j7&sourceid=chrome&ie=UTF-8\n",
    "     - https://stackoverflow.com/questions/26680590/how-to-scrape-imbeded-script-on-webpage-in-python\n",
    "     - https://stanford.edu/~mgorkove/cgi-bin/rpython_tutorials/Scraping_a_Webpage_Rendered_by_Javascript_Using_Python.php\n",
    "     - https://www.youtube.com/watch?v=FSH77vnOGqU\n",
    "     - https://www.youtube.com/watch?v=vsmxMLmroyQ"
   ]
  },
  {
   "cell_type": "markdown",
   "metadata": {},
   "source": [
    "## Selenium"
   ]
  },
  {
   "cell_type": "code",
   "execution_count": 4,
   "metadata": {},
   "outputs": [],
   "source": [
    "url_results = \"https://www.runczech.com/srv/www/qf/cs/ramjet/results/list?&page=1&per_page=15\"\n",
    "url_marathon = \"https://www.runczech.com/srv/www/qf/cs/ramjet/resultsEventDetail?eventId=22175&frm.subeventId=22176&page=1&per_page=15&sort=finishTime\""
   ]
  },
  {
   "cell_type": "code",
   "execution_count": 5,
   "metadata": {},
   "outputs": [
    {
     "name": "stdout",
     "output_type": "stream",
     "text": [
      "3\n",
      "2\n",
      "1\n",
      "Done\n"
     ]
    }
   ],
   "source": [
    "# DELETE LATER, just for playing around\n",
    "# Simple sleep for 1s\n",
    "def countdown(from_number):\n",
    "    if from_number < 1:\n",
    "        print(\"Done\")\n",
    "    else:\n",
    "        print(from_number)\n",
    "        sleep(1)\n",
    "        countdown(from_number - 1)\n",
    "        \n",
    "countdown(3)"
   ]
  },
  {
   "cell_type": "markdown",
   "metadata": {},
   "source": [
    "First make sure chromedriver is correctly in the environment (download from https://sites.google.com/a/chromium.org/chromedriver/ ), otherwise the webdriver scraping outputs an error."
   ]
  },
  {
   "cell_type": "markdown",
   "metadata": {},
   "source": [
    "### Events' URLs"
   ]
  },
  {
   "cell_type": "markdown",
   "metadata": {},
   "source": [
    "We need to slow down the scraping inside get_soup function so the url gets fully loaded in the browser (JS table takes about 1-2s to pull data from servers) before it's scraped, otherwise the soup object will contain only the static parts of the website and not the dynamic ones which we care about."
   ]
  },
  {
   "cell_type": "code",
   "execution_count": 6,
   "metadata": {},
   "outputs": [],
   "source": [
    "# Scrapes dynamic webpage content using Selenium browser, returns a prettified soup code of the page\n",
    "def get_soup(url):\n",
    "    # Working with chrome, first open window\n",
    "    browser = webdriver.Chrome()\n",
    "    # Then navigate browser to desired url and get the source code\n",
    "    browser.get(url_results) # navigate to the page\n",
    "\n",
    "    # Wait 1-2s (1s might just be enough but better be safe closer to 2s)\n",
    "    sleep(2) # time in seconds, can also take a float value\n",
    "    \n",
    "    # Take all the inner code of the displayed webpage\n",
    "    innerHTML = browser.execute_script(\"return document.body.innerHTML\") #returns the inner HTML as a string\n",
    "    \n",
    "    # Clean with BeautifulSoup:\n",
    "    soup = BeautifulSoup(innerHTML,'lxml')\n",
    "    return soup"
   ]
  },
  {
   "cell_type": "code",
   "execution_count": 7,
   "metadata": {},
   "outputs": [],
   "source": [
    "# For a given RunCzech Results URL, returns a list of events' URLs (marathons)\n",
    "def get_all_links(url):\n",
    "    soup = get_soup(url) # call get_soup function on the desired url and get back the soup from bs (of the dynamic HTML with JS elements loaded)\n",
    "    a_elements = soup.find_all('a',{'class':'indexList_link'}) # class \"indexList_link\" contains the href link we desire\n",
    "    urls_events = ['https://www.runczech.com' + a['href'] for a in a_elements] # list comprehension/function for links, join runczech url with the href ending of the events\n",
    "    return urls_events"
   ]
  },
  {
   "cell_type": "code",
   "execution_count": 8,
   "metadata": {},
   "outputs": [],
   "source": [
    "marathons_links = get_all_links(url_results)"
   ]
  },
  {
   "cell_type": "code",
   "execution_count": 9,
   "metadata": {
    "scrolled": true
   },
   "outputs": [
    {
     "data": {
      "text/plain": [
       "['https://www.runczech.com/srv/www/qf/cs/ramjet/resultsEventDetail?eventId=22175',\n",
       " 'https://www.runczech.com/srv/www/qf/cs/ramjet/resultsEventDetail?eventId=22166',\n",
       " 'https://www.runczech.com/srv/www/qf/cs/ramjet/resultsEventDetail?eventId=22163',\n",
       " 'https://www.runczech.com/srv/www/qf/cs/ramjet/resultsEventDetail?eventId=22114',\n",
       " 'https://www.runczech.com/srv/www/qf/cs/ramjet/resultsEventDetail?eventId=21460',\n",
       " 'https://www.runczech.com/srv/www/qf/cs/ramjet/resultsEventDetail?eventId=21453',\n",
       " 'https://www.runczech.com/srv/www/qf/cs/ramjet/resultsEventDetail?eventId=21448',\n",
       " 'https://www.runczech.com/srv/www/qf/cs/ramjet/resultsEventDetail?eventId=21636',\n",
       " 'https://www.runczech.com/srv/www/qf/cs/ramjet/resultsEventDetail?eventId=21443',\n",
       " 'https://www.runczech.com/srv/www/qf/cs/ramjet/resultsEventDetail?eventId=21438',\n",
       " 'https://www.runczech.com/srv/www/qf/cs/ramjet/resultsEventDetail?eventId=21429',\n",
       " 'https://www.runczech.com/srv/www/qf/cs/ramjet/resultsEventDetail?eventId=21426',\n",
       " 'https://www.runczech.com/srv/www/qf/cs/ramjet/resultsEventDetail?eventId=20655',\n",
       " 'https://www.runczech.com/srv/www/qf/cs/ramjet/resultsEventDetail?eventId=20648',\n",
       " 'https://www.runczech.com/srv/www/qf/cs/ramjet/resultsEventDetail?eventId=20643']"
      ]
     },
     "execution_count": 9,
     "metadata": {},
     "output_type": "execute_result"
    }
   ],
   "source": [
    "marathons_links"
   ]
  },
  {
   "cell_type": "code",
   "execution_count": 10,
   "metadata": {},
   "outputs": [
    {
     "data": {
      "text/plain": [
       "'https://www.runczech.com/srv/www/qf/cs/ramjet/resultsEventDetail?eventId=22163'"
      ]
     },
     "execution_count": 10,
     "metadata": {},
     "output_type": "execute_result"
    }
   ],
   "source": [
    "marathon_2019 = marathons_links[2]\n",
    "marathon_2019"
   ]
  },
  {
   "cell_type": "markdown",
   "metadata": {},
   "source": [
    "### Data table from event URL"
   ]
  },
  {
   "cell_type": "code",
   "execution_count": null,
   "metadata": {},
   "outputs": [],
   "source": []
  }
 ],
 "metadata": {
  "kernelspec": {
   "display_name": "Python 3",
   "language": "python",
   "name": "python3"
  },
  "language_info": {
   "codemirror_mode": {
    "name": "ipython",
    "version": 3
   },
   "file_extension": ".py",
   "mimetype": "text/x-python",
   "name": "python",
   "nbconvert_exporter": "python",
   "pygments_lexer": "ipython3",
   "version": "3.7.2"
  }
 },
 "nbformat": 4,
 "nbformat_minor": 2
}
