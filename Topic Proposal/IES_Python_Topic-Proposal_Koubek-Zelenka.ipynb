{
 "cells": [
  {
   "cell_type": "markdown",
   "metadata": {},
   "source": [
    "# Institute of Economic Studies\n",
    "# Data Processing in Python\n",
    "## Topic Proposal\n",
    "## Prague Marathon Results\n",
    "#### David Koubek, Jiri Zelenka\n",
    "28 March 2019 (revision 31 May 2019)"
   ]
  },
  {
   "cell_type": "markdown",
   "metadata": {},
   "source": [
    "### Introduction\n",
    "\n",
    "We propose scraping the RUNCZECH website for results of marathon runners. The scraping would essentially consist of retrieving the table of results (times of runners etc.) which is spread out across various pages, and across various years of marathon events. The data analysis could delve into how the distributions of finishing times of runners varies across past 25 years. We expect the finishing times to be improving over past decades. Different visualisation techniques are suitable here for the cross-section data that also contain e.g. the nationalities. Graphing coloured maps with respect to average time of the nation, or across Czech cities for other than Prague marathons."
   ]
  },
  {
   "cell_type": "markdown",
   "metadata": {},
   "source": [
    "### Scraping procedure\n",
    " - use dynamic JavaScript (JS) scraping methods to scrape the website's content that is loaded from their servers dynamically\n",
    " - use BeautifulSoup package among :others, for creation of a soup variable containing the required html code in a clean format\n",
    " - in \"Results\" menu (https://www.runczech.com/srv/www/qf/en/ramjet/results/list) of the website, scrape all marathon weekend links on all 7 pages and save their urls. It should be 24 links for 24 years of marathon results (1995-2011, 2013-2019). 2012 is for some reason missing from the website and hence can't be acquired. The links look e.g. like https://www.runczech.com/srv/www/qf/en/ramjet/resultsEventDetail?eventId=21429. The links are found in \"a\" HTML elements using soup.findAll('a',{'class':'indexList_link'})\n",
    " - for each of the 24 links (for each marathon year), scrape the hundreds of pages of table rows and save the data. The table of results for a marathon is structured in \"tr\" HTML rows which we save to a dataframe"
   ]
  },
  {
   "cell_type": "markdown",
   "metadata": {},
   "source": [
    "### Contribution\n",
    "\n",
    "The contribution of this topic is in further interesting analyses performed than provided by the RUNCZECH website. Getting the data from the website is not very simple without scraping techniques, as they allow just 15 rows of results displayed on a page, and more importantly there is no option of downloading the whole dataset in any way or form, e.g. CSV. So scraping is the only option here. Since the website uses scripts to load the content of the pages (it pulls JSON data from their servers), the scraping needs to use JS methods. Static scraping doesn't get the main content of the website needed for analysis."
   ]
  }
 ],
 "metadata": {
  "kernelspec": {
   "display_name": "Python 3",
   "language": "python",
   "name": "python3"
  },
  "language_info": {
   "codemirror_mode": {
    "name": "ipython",
    "version": 3
   },
   "file_extension": ".py",
   "mimetype": "text/x-python",
   "name": "python",
   "nbconvert_exporter": "python",
   "pygments_lexer": "ipython3",
   "version": "3.7.2"
  }
 },
 "nbformat": 4,
 "nbformat_minor": 2
}
