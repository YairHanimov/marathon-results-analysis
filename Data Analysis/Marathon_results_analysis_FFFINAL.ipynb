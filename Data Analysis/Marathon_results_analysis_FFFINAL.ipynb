{
 "cells": [
  {
   "cell_type": "markdown",
   "metadata": {},
   "source": [
    "# Prague Marathon Results\n",
    "## Data Analysis\n",
    "#### David Koubek, Jiri Zelenka"
   ]
  },
  {
   "cell_type": "markdown",
   "metadata": {},
   "source": [
    "In this data analysis, we load the 24 datasets that the scraper scraped from the RunCzech website. Then we treat/clean the data from missing values, preprocess it (adding Gender column inferred from \"Age category\", visualise various statistics about the data, and finally analyse the finishing times, trying to do just a basic rough prediction when the 2 hour marathon mark could be broken in the future. We have just 24 years, so it is not really enough observations to extrapolate anything into the future. Nonetheless, regarding the nature of sports, it is rather safe to guess that the physical boundaries of human body will be further pushed through precise training methods and improving nutrition and regeneration. The 2 hour mark is just a minute and a half away (although our Prague marathon doesn't host the world times and is a little behind). At the time of writing, the best time of 2h:01m:39s was achieved in Berlin marathon in 2018."
   ]
  },
  {
   "cell_type": "markdown",
   "metadata": {},
   "source": [
    "### Content of Analysis:\n",
    "\n",
    "#### Import of Required Packages\n",
    "##### Setup for the basic graphs\n",
    "#### Data Loading + Merging\n",
    "-------------------------------------\n",
    "#### Preprocessing:\n",
    "\n",
    "###### 1 Renaming Columns\n",
    "###### 2 Cleaning Time + Adding Hours Column\n",
    "###### 3 Cleaning Names of Runners + Completing Missing Ranks\n",
    "###### 4 Adding Gender + Additional Genders \n",
    "-------------------------------------\n",
    "#### Unique Countries, Names and Ages\n",
    "#### Runners who Repeated Marathon\n",
    "#### Top 5 Countries with the Most of Runners\n",
    "#### Percentage of Czechs Over Time\n",
    "-------------------------------------\n",
    "#### Pivot Tables - Year x Gender\n",
    "###### Min rank, Min time, Median time\n",
    "###### Men x Women boxplots\n",
    "-------------------------------------\n",
    "#### Histograms 1995,2019, Total \n",
    "-------------------------------------\n",
    "#### Predictions, 2 hour goal\n",
    "-------------------------------------\n",
    "-------------------------------------"
   ]
  },
  {
   "cell_type": "markdown",
   "metadata": {},
   "source": [
    "### Import of Required Packages"
   ]
  },
  {
   "cell_type": "code",
   "execution_count": null,
   "metadata": {},
   "outputs": [],
   "source": [
    "import pandas as pd                            # for dataframe\n",
    "import numpy as np                             # working with arrays\n",
    "import matplotlib.pyplot as plt                # Basic plots\n",
    "import seaborn as sns                          # Plots, boxplots\n",
    "import gender_guesser.detector as gender       # Gender predictions\n",
    "from collections import Counter                # Counting items in set\n",
    "from sklearn.linear_model import LinearRegression  # Liear model and predictions\n",
    "from scipy import stats                        # Liear model and predictions"
   ]
  },
  {
   "cell_type": "markdown",
   "metadata": {},
   "source": [
    "##### Setup  for the basic graphs\n",
    "\n"
   ]
  },
  {
   "cell_type": "code",
   "execution_count": null,
   "metadata": {},
   "outputs": [],
   "source": [
    "plt.rcParams[\"figure.figsize\"]=(14,8)"
   ]
  },
  {
   "cell_type": "markdown",
   "metadata": {},
   "source": [
    "### Data loading + Merging\n",
    "\n",
    "#### 1995 - 2019 (excluding 2012)"
   ]
  },
  {
   "cell_type": "code",
   "execution_count": null,
   "metadata": {},
   "outputs": [],
   "source": [
    "years = [1995, 1996, 1997, 1998, 1999, 2000, 2001, 2002, 2003, 2004,\n",
    "         2005, 2006, 2007, 2008, 2009, 2010, 2011, \n",
    "         2013, 2014, 2015, 2016, 2017, 2018, 2019]\n",
    "\n",
    "# 2012 is missing !!!, 24 runs\n",
    "\n",
    "\n",
    "df_all = []\n",
    "path = '../Scraper/Data_Marathons_Prague/data_'\n",
    "\n",
    "for i in years:\n",
    "    df = pd.read_csv(path + str(i) + '.csv')\n",
    "    df[\"Year\"] = i\n",
    "    df_all.append(df)\n",
    "    \n",
    "\n",
    "df_merged = pd.concat(df_all, ignore_index=True)   \n",
    "# Reseting Index to obtain overall indexes\n",
    "\n",
    "len(df_merged)\n",
    "# Total number of records = 94 299"
   ]
  },
  {
   "cell_type": "code",
   "execution_count": null,
   "metadata": {},
   "outputs": [],
   "source": [
    "df_merged.head()\n",
    "df_merged.tail()\n",
    "\n",
    "# First glimpses into dataset"
   ]
  },
  {
   "cell_type": "markdown",
   "metadata": {},
   "source": [
    "## Preprocessing\n",
    "\n",
    "#### 1 Renaming Columns\n",
    "#### 2 Cleaning Time + Adding Hours Column#### 2 \n",
    "#### 3 Cleaning Names of Runners + Completing Missing Ranks\n",
    "#### 4 Adding Gender + Additional Genders \n"
   ]
  },
  {
   "cell_type": "markdown",
   "metadata": {},
   "source": [
    "### 1 Renaming Columns\n"
   ]
  },
  {
   "cell_type": "code",
   "execution_count": null,
   "metadata": {},
   "outputs": [],
   "source": [
    "df_renamed =df_merged.copy()\n",
    "\n",
    "df_renamed = df_renamed.rename(columns={\"Age cat.\":\"Age\", \"Chip time\":\"Time\",\"St. number\":\"Start_number\"  })\n",
    "\n",
    "df_renamed.head()\n",
    "df_renamed.tail()"
   ]
  },
  {
   "cell_type": "markdown",
   "metadata": {},
   "source": [
    "### 2 Cleaning Time + Adding Hours Column\n",
    "###### We deleted 288 observations with blank time, mostly from year 1998.\n",
    "###### These were not suitable for further analysis"
   ]
  },
  {
   "cell_type": "code",
   "execution_count": null,
   "metadata": {},
   "outputs": [],
   "source": [
    "# Deleting 288 observations with time = \"-\" - mostly from year 1998, reason of this = ???\n",
    "\n",
    "df_times = df_renamed.copy()\n",
    "df_times = df_times[df_renamed.Time != \"-\"]\n",
    "\n",
    "df_times.reset_index(drop = True,inplace=True)\n",
    "\n",
    "# Check for non-\"-\" times\n",
    "times = df_times[\"Time\"]\n",
    "times.describe()\n",
    "\n",
    "len(df_times)\n",
    "\n",
    "# Keep working with 94 011 Runners"
   ]
  },
  {
   "cell_type": "markdown",
   "metadata": {},
   "source": [
    "### 2.2 Adding Min Column"
   ]
  },
  {
   "cell_type": "code",
   "execution_count": null,
   "metadata": {},
   "outputs": [],
   "source": [
    "# Counting minutes from Total time\n",
    "\n",
    "tot_min = []\n",
    "times = list(times)\n",
    "\n",
    "for i in times:\n",
    "    t=i.split(':')\n",
    "    tot_min.append(int(t[0])*60+int(t[1])*1 +int(t[2])/60)\n",
    "    \n",
    "# len(tot_min)\n",
    "tot_min = pd.DataFrame(tot_min)\n",
    "\n",
    "df_mins = pd.concat([df_times, tot_min], axis=1)\n",
    "df_mins = df_mins.rename(columns={0:\"tot_mins\"})"
   ]
  },
  {
   "cell_type": "code",
   "execution_count": null,
   "metadata": {},
   "outputs": [],
   "source": [
    "# List of roudned minutes\n",
    "\n",
    "Mins = list(np.around(np.array(tot_min),0))\n",
    "Mins = pd.DataFrame(Mins)\n",
    "\n",
    "df_mins = pd.concat([df_mins, Mins], axis=1)\n",
    "df_mins = df_mins.rename(columns={0:\"Mins\"})\n",
    "\n",
    "df_mins.head()\n",
    "# df_mins.tail()\n",
    "\n",
    "# Keep working with Dataframe including rounded minutes"
   ]
  },
  {
   "cell_type": "markdown",
   "metadata": {},
   "source": [
    "###  3 Cleaning Names of Runners + Completing Missing Ranks"
   ]
  },
  {
   "cell_type": "code",
   "execution_count": null,
   "metadata": {},
   "outputs": [],
   "source": [
    "all_names = list(df_mins.Name)\n",
    "\n",
    "print(sorted(df_mins)[0:500])\n",
    "print(sorted(df_mins)[len(df_mins)-500:len(all_names)])\n",
    "\n",
    "    # In the head we can see some names starting with spaces or dots - we will transform them in next step\n",
    "    # In the tail there are names of Russian, Israeli, Chiense or Japanese Runners\n",
    "    # There are not so many of them, we keep them in original form"
   ]
  },
  {
   "cell_type": "code",
   "execution_count": null,
   "metadata": {},
   "outputs": [],
   "source": [
    "df_named = df_mins.copy()\n",
    "\n",
    "indd = df_named.index[df_named['Name'] == ' Peter Puškár                   '].tolist()\n",
    "df_named.loc[indd,'Name'] = \"Peter Puškár\"\n",
    "indd = df_named.index[df_named['Name'] == ' Radek Podracký               '].tolist()\n",
    "df_named.loc[indd,'Name'] = \"Radek Podracký\"\n",
    "indd = df_named.index[df_named['Name'] == ' STEINIVAR'].tolist()\n",
    "df_named.loc[indd,'Name'] = \"STEINIVAR\"\n",
    "indd = df_named.index[df_named['Name'] == ',Jiří Stránský Judr.'].tolist()\n",
    "df_named.loc[indd,'Name'] = \"Jiří Stránský Judr.\"\n",
    "indd = df_named.index[df_named['Name'] == '.Jiří Nekuža'].tolist()\n",
    "df_named.loc[indd,'Name'] = \"Jiří Nekuža\"\n",
    "indd = df_named.index[df_named['Name'] == '- 50008873'].tolist()\n",
    "df_named.loc[indd,'Name'] = \"- -\"\n",
    "indd = df_named.index[df_named['Name'] == '- 50044654'].tolist()\n",
    "df_named.loc[indd,'Name'] = \"- -\"\n",
    "indd = df_named.index[df_named['Name'] == '?IVIND JOHANSEN'].tolist()\n",
    "df_named.loc[indd,'Name'] = \"IVIND JOHANSEN\"\n",
    "indd = df_named.index[df_named['Name'] == '\\u202aesty rosenberg\\u202c\\u200f'].tolist()\n",
    "df_named.loc[indd,'Name'] = \"aesty rosenberg\"\n",
    "indd = df_named.index[df_named['Name'] == '\\u202aron gashri\\u202c\\u200f'].tolist()\n",
    "df_named.loc[indd,'Name'] = \"aron gashri\"\n",
    "indd = df_named.index[df_named['Name'] == 'ＨＩＲＯＫＯ ＫＵＳＵＮＯＫＩ'].tolist()\n",
    "df_named.loc[indd,'Name'] = \"Hiroko Kusunoki\"\n",
    "indd = df_named.index[df_named['Name'] == 'ＨＩＲＯＫＯ ＳＨＩＮＯＭＩＹＡ'].tolist()\n",
    "df_renamed.loc[indd,'Name'] = \"Hiroko Shinomiya\"\n",
    "indd = df_named.index[df_named['Name'] == 'ＨＩＲＯＭＩ ＹＯＮＥＺＵ'].tolist()\n",
    "df_named.loc[indd,'Name'] = \"Hiromi Yonezu\"\n",
    "indd = df_named.index[df_named['Name'] == 'ＪＵＮＫＯ ＮＩＳＨＩＯＫＡ'].tolist()\n",
    "df_named.loc[indd,'Name'] = \"Junko Nishioka\"\n",
    "indd = df_named.index[df_named['Name'] == 'ＫＩＳＡＫＯ ＴＯＫＯ'].tolist()\n",
    "df_named.loc[indd,'Name'] = \"Kisako Toko\"\n",
    "indd = df_named.index[df_named['Name'] == 'ＫＩＹＯＫＯ ＫＡＷＡＳＡＫＩ'].tolist()\n",
    "df_named.loc[indd,'Name'] = \"Kiyoko Kawasaki\"\n",
    "indd = df_named.index[df_named['Name'] == 'ＭＡＳＡＫＯ ＯＮＩＳＨＩ'].tolist()\n",
    "df_named.loc[indd,'Name'] = \"Masako Onishi\"\n",
    "indd = df_named.index[df_named['Name'] == 'ＭＩＥＫＯ ＴＳＵＪＩＯＫＡ'].tolist()\n",
    "df_named.loc[indd,'Name'] = \"Mieko Tsujioka\""
   ]
  },
  {
   "cell_type": "code",
   "execution_count": null,
   "metadata": {},
   "outputs": [],
   "source": [
    "df_named['Name'] = [str(i).lower() for i in df_named['Name']] \n",
    "# Changing all Names to lowercase\n",
    "    \n",
    "df_named.head()"
   ]
  },
  {
   "cell_type": "code",
   "execution_count": null,
   "metadata": {},
   "outputs": [],
   "source": [
    "len(df_named)"
   ]
  },
  {
   "cell_type": "code",
   "execution_count": null,
   "metadata": {},
   "outputs": [],
   "source": [
    "df_named[df_named[\"Rank\"]==\"-\"]"
   ]
  },
  {
   "cell_type": "markdown",
   "metadata": {},
   "source": [
    "### 3.2 Completing Missing Ranks"
   ]
  },
  {
   "cell_type": "markdown",
   "metadata": {},
   "source": [
    "The only missing ranks are important for year 1997.\n",
    "The rest of the missing ranks has missing time, too, and it will be dropped at all."
   ]
  },
  {
   "cell_type": "code",
   "execution_count": null,
   "metadata": {},
   "outputs": [],
   "source": [
    "df_ranks = df_named.copy()\n",
    "df_ranks = df_ranks[df_ranks[\"Time\"] != \"-\"]\n",
    "# Dropping observaitons of 1998 having no times\n",
    "\n",
    "missing_ranks = list(range(1601,1640))\n",
    "missing_ranks = list(map(str, missing_ranks))\n",
    "# Changing range of ranks into Strings\n",
    "\n",
    "len(missing_ranks)\n",
    "len(df_ranks.loc[df_ranks['Rank']==\"-\",\"Rank\"])\n",
    "# Check of the length of source and target => OK\n",
    "\n",
    "df_ranks.loc[df_ranks['Rank']==\"-\", \"Rank\"] = missing_ranks\n",
    "# Applying new ranks into the missing places\n",
    "\n",
    "df_ranks[\"Rank\"] = pd.to_numeric(df_ranks[\"Rank\"])\n",
    "# This improved our further analysis of Pivot tables, some Ranks were not in number format\n",
    "\n",
    "df_ranks[df_ranks[\"Year\"]==1997].tail(40)\n",
    "# Check of the new Ranks"
   ]
  },
  {
   "cell_type": "markdown",
   "metadata": {},
   "source": [
    "### 4 Adding Gender + Additional Genders"
   ]
  },
  {
   "cell_type": "code",
   "execution_count": null,
   "metadata": {},
   "outputs": [],
   "source": [
    "df_gend = df_ranks.copy()\n",
    "\n",
    "df_gend[\"Gender\"] = df_gend[\"Age\"].astype(str).str[0]\n",
    "# Adding Gender column based on the first letter of Age code \n",
    "\n",
    "df_gend.tail()"
   ]
  },
  {
   "cell_type": "markdown",
   "metadata": {},
   "source": [
    "### 4.2 Additional Genders\n",
    "###### Now we have around 3.300 Runners with missing gender.\n",
    "###### We will deal with them using gender.Detector() function"
   ]
  },
  {
   "cell_type": "code",
   "execution_count": null,
   "metadata": {},
   "outputs": [],
   "source": [
    "Forename = []\n",
    "for i in df_gend[\"Name\"]:\n",
    "    nick = i.split(' ')\n",
    "    Forename.append(nick[0].capitalize())\n",
    "\n",
    "df_gend[\"Forename\"]=Forename\n",
    "\n",
    "df_gend.reset_index(drop = True, inplace = True)\n",
    "\n",
    "df_gend[df_gend[\"Gender\"]==\"-\"].head()\n",
    "\n",
    "# Here we generated column of Fornames with capitalized first letters"
   ]
  },
  {
   "cell_type": "code",
   "execution_count": null,
   "metadata": {},
   "outputs": [],
   "source": [
    "d = gender.Detector()\n",
    "\n",
    "# This package has satisfying results for both czech and foreign names,\n",
    "# e.g. Jiří, Ehud, Jindřiška = OK,\n",
    "# Saša, Dong = both possible genders\n",
    "\n",
    "for i in range(len(df_gend)):\n",
    "    #print(i)\n",
    "    if df_gend.loc[i,\"Gender\"]==\"-\":\n",
    "\n",
    "        new_gender = d.get_gender(df_gend.loc[i,\"Forename\"])\n",
    "           \n",
    "        if new_gender == \"male\":\n",
    "            df_gend.loc[i, \"Gender\"] = \"M\"\n",
    "                \n",
    "        elif new_gender == \"female\":\n",
    "            df_gend.loc[i, \"Gender\"] = \"W\"\n",
    "\n",
    "# This part of code generated male/female/other labels,\n",
    "# which we transformed into M and W labels\n",
    "\n",
    "len(df_gend[df_gend[\"Gender\"]==\"-\"])\n",
    "#There are only 341 Genders missing"
   ]
  },
  {
   "cell_type": "code",
   "execution_count": null,
   "metadata": {},
   "outputs": [],
   "source": [
    "df_gend[df_gend[\"Year\"]==1995].head()"
   ]
  },
  {
   "cell_type": "markdown",
   "metadata": {},
   "source": [
    "Additionally, we decided to label manually Turbo Tummo,\n",
    "who won the run in 1995, but due to his unusual name he would stand out of our analysis."
   ]
  },
  {
   "cell_type": "code",
   "execution_count": null,
   "metadata": {},
   "outputs": [],
   "source": [
    "df_gend.loc[0, \"Gender\"] = \"M\"\n",
    "\n",
    "df_final = df_gend.copy()\n",
    "\n",
    "df_final.head()"
   ]
  },
  {
   "cell_type": "markdown",
   "metadata": {},
   "source": [
    "#### Now we are done with preprocessing\n",
    "From 3309 missing Genders we now miss only 340 observations of Gender, which is a great improvement!"
   ]
  },
  {
   "cell_type": "markdown",
   "metadata": {},
   "source": [
    "### Unique Countries, Names and Ages"
   ]
  },
  {
   "cell_type": "code",
   "execution_count": null,
   "metadata": {},
   "outputs": [],
   "source": [
    "#All unique countries:\n",
    "\n",
    "uq_countries = df_final.Nationality.unique()   \n",
    "len(uq_countries)\n",
    "\n",
    "#uq_countries = 205"
   ]
  },
  {
   "cell_type": "code",
   "execution_count": null,
   "metadata": {},
   "outputs": [],
   "source": [
    "# All unique ages:\n",
    "\n",
    "uq_ages = df_final.Age.unique()\n",
    "len(uq_ages)\n",
    "\n",
    "# uq_ages = 15"
   ]
  },
  {
   "cell_type": "code",
   "execution_count": null,
   "metadata": {},
   "outputs": [],
   "source": [
    "# All unique names:\n",
    "\n",
    "uq_names = df_final.Name.unique()\n",
    "len(uq_names)\n",
    "\n",
    "# uq_names = 66087"
   ]
  },
  {
   "cell_type": "markdown",
   "metadata": {},
   "source": [
    "### Runners who Repeated Marathon"
   ]
  },
  {
   "cell_type": "markdown",
   "metadata": {},
   "source": [
    "Here we computed number of repetitions of each name over years\n",
    "Anyway, we cannot yet say, how many of them are the same name in one run like \"Petr Svoboda\" 41x during 24 runs,\n",
    "but there are definitely Runners who took more runs like \"jack joseph michel brossaud\" - 7x"
   ]
  },
  {
   "cell_type": "code",
   "execution_count": null,
   "metadata": {},
   "outputs": [],
   "source": [
    "all_names = list(df_final.Name)\n",
    "num_of_runs = Counter(all_names)\n",
    "\n",
    "#num_of_runs.most_common() \n",
    "    #This is a list of all Names and their amount of appearence"
   ]
  },
  {
   "cell_type": "markdown",
   "metadata": {},
   "source": [
    "### Top 5 Countries of origins (icluding Kenya)"
   ]
  },
  {
   "cell_type": "code",
   "execution_count": null,
   "metadata": {},
   "outputs": [],
   "source": [
    "all_names = list(df_final.Nationality)\n",
    "num_of_countries = Counter(all_names)\n",
    "# This part assigns number of Runners to all countries\n",
    "\n",
    "numerous_countries = num_of_countries.most_common(50)\n",
    "numerous_countries = [i[0] for i in numerous_countries]\n",
    "idx = numerous_countries.index(\"KEN\")\n",
    "# In this part we obtained index of Kenya in top 50 most 'populated' countries\n",
    "\n",
    "numerous_countries = num_of_countries.most_common(4)\n",
    "numerous_countries = [i[0] for i in numerous_countries]\n",
    "numerous_countries.append(\"KEN\")\n",
    "# Now we took 4 countries with the most Runners, Kenya was added for comparison as the on with he best Runners\n",
    "\n",
    "[num_of_countries.most_common(4), (num_of_countries.most_common()[idx])]"
   ]
  },
  {
   "cell_type": "code",
   "execution_count": null,
   "metadata": {},
   "outputs": [],
   "source": [
    "years = [1995, 1996, 1997, 1998, 1999, 2000, 2001, 2002, 2003, 2004,\n",
    "         2005, 2006, 2007, 2008, 2009, 2010, 2011, \n",
    "         2013, 2014, 2015, 2016, 2017, 2018, 2019]\n",
    "\n",
    "years = years[4:]\n",
    "# Now we start from 1999 because of missing Nationalities in 1995-1998\n",
    "\n",
    "countries_best =[]\n",
    "\n",
    "for j in numerous_countries:\n",
    "    \n",
    "    nation_tot = []\n",
    "\n",
    "    for i in years:\n",
    "        nation = df_final[(df_final[\"Year\"]== i) & (df_final[\"Nationality\"]== j)]\n",
    "        nation_min = nation.Mins.min()\n",
    "        nation_tot.append(nation_min)\n",
    "        \n",
    "    countries_best.append(nation_tot)   \n",
    "    \n",
    "# This code looped over 5 countries and years 1999-2019 and obtained the best times for each country"
   ]
  },
  {
   "cell_type": "code",
   "execution_count": null,
   "metadata": {},
   "outputs": [],
   "source": [
    "for i in range(len(countries_best)):\n",
    "    plt.plot(years, countries_best[i])\n",
    "\n",
    "plt.legend(numerous_countries, loc='upper right')\n",
    "\n",
    "plt.show()"
   ]
  },
  {
   "cell_type": "markdown",
   "metadata": {},
   "source": [
    "#### Kenya leads the running times, Czechia holds quiet good results, probably because of the huge amount of Runners. Italy is the only one of the most participating countries, who beat Czechia (in 2015).  "
   ]
  },
  {
   "cell_type": "markdown",
   "metadata": {},
   "source": [
    "### Percentage of Czechs Over Time"
   ]
  },
  {
   "cell_type": "markdown",
   "metadata": {},
   "source": [
    "##### After inspecting each year, we noticed of the occurence of \"TCH\" instead of \"CZE\" in Nationality column.\n",
    "\n",
    "###### 1995 - no nationalities\n",
    "###### 1996 2x CZE + 0x TCH\n",
    "###### 1997 1x CZE + 727x TCH\n",
    "###### 1998 1x CZE + 1045x TCH\n",
    "###### 1999 986x CZE + 0x TCH"
   ]
  },
  {
   "cell_type": "code",
   "execution_count": null,
   "metadata": {},
   "outputs": [],
   "source": [
    "# Replacing all \"TCH\" with \"CZE\"\n",
    "\n",
    "df_final['Nationality'] = df_final['Nationality'].replace('TCH', 'CZE') "
   ]
  },
  {
   "cell_type": "code",
   "execution_count": null,
   "metadata": {},
   "outputs": [],
   "source": [
    "# Percents of czech Runners over years 1997-2019\n",
    "\n",
    "cz_percent = []\n",
    "for year in years:\n",
    "    # We keep working with 1997-2019 years set\n",
    "    \n",
    "    cz = len(df_final[(df_final[\"Nationality\"] == \"CZE\") & (df_final[\"Year\"] == year)])\n",
    "    alls = len(df_final[df_final[\"Year\"] == year])\n",
    "    per = cz/alls\n",
    "    cz_percent.append(per)   \n",
    "    \n",
    "# cz_percent"
   ]
  },
  {
   "cell_type": "code",
   "execution_count": null,
   "metadata": {},
   "outputs": [],
   "source": [
    "czechs = df_final[df_final[\"Nationality\"] == \"CZE\"]\n",
    "len(czechs)/len(df_final)\n",
    "\n",
    "# Overall percentage of czech Runners = 46.2 %\n",
    "\n",
    "plt.plot(years, cz_percent)\n",
    "plt.show()"
   ]
  },
  {
   "cell_type": "markdown",
   "metadata": {},
   "source": [
    "### Pivot tables Year x Gender\n",
    "\n",
    "##### Min Rank, Min Time, Median Time"
   ]
  },
  {
   "cell_type": "code",
   "execution_count": null,
   "metadata": {},
   "outputs": [],
   "source": [
    "# This table shows the top ranks of M and W of the ovreall ranks in year\n",
    "# Here we can see that the top women took place about 20 of all the Runners and are moving forward to better positions\n",
    "\n",
    "df_genders = df_final[df_final[\"Gender\"] != \"-\"]\n",
    "pd.pivot_table(df_genders,index=[\"Gender\"],columns = [\"Year\"], values=\"Rank\",aggfunc=np.min)"
   ]
  },
  {
   "cell_type": "code",
   "execution_count": null,
   "metadata": {},
   "outputs": [],
   "source": [
    "# This table presents average times of W + M over years\n",
    "# Non-clear Genders were excluded\n",
    "\n",
    "df_genders = df_final[df_final[\"Gender\"] != \"-\"]\n",
    "pd.pivot_table(df_genders,index=[\"Gender\"],columns = [\"Year\"], values=\"Mins\",aggfunc=np.mean)"
   ]
  },
  {
   "cell_type": "code",
   "execution_count": null,
   "metadata": {},
   "outputs": [],
   "source": [
    "# This table presents minimum times of W + M over years\n",
    "# Non-clear Genders was excluded\n",
    "\n",
    "df_genders = df_final[df_final[\"Gender\"] != \"-\"]\n",
    "pd.pivot_table(df_genders,index=[\"Gender\"],columns = [\"Year\"], values=\"Mins\",aggfunc=np.min)"
   ]
  },
  {
   "cell_type": "code",
   "execution_count": null,
   "metadata": {},
   "outputs": [],
   "source": [
    "# In this part we calculate best and median times for both Men and Women\n",
    "\n",
    "df_man = df_final[df_final[\"Gender\"] == \"M\"]\n",
    "df_woman = df_final[df_final[\"Gender\"] == \"W\"]\n",
    "\n",
    "years = years[1:]\n",
    "\n",
    "# 2012 is missing, 1995 is excluded because of no Genders, 23 runs\n",
    "\n",
    "best_w = []\n",
    "\n",
    "for i in years:\n",
    "    new_w = df_woman[df_woman[\"Year\"]== i]\n",
    "    min_new_w = new_w.Mins.min()\n",
    "    best_w.append(min_new_w)\n",
    "\n",
    "best_m = []\n",
    "\n",
    "for i in years:\n",
    "    new_m = df_man[df_man[\"Year\"]== i]\n",
    "    min_new_m = new_m.Mins.min()\n",
    "    best_m.append(min_new_m)\n",
    "   \n",
    "\n",
    "# We do not calculate min of All, as the man times are the min of all times\n",
    "#-----------------------------------------\n",
    "    \n",
    "median_w = []\n",
    "\n",
    "for i in years:\n",
    "    new_w = df_woman[df_woman[\"Year\"]== i]\n",
    "    median_new_w = new_w.Mins.median()\n",
    "    median_w.append(median_new_w)\n",
    "\n",
    "median_m = []\n",
    "\n",
    "for i in years:\n",
    "    new_m = df_man[df_man[\"Year\"]== i]\n",
    "    median_new_m = new_m.Mins.median()\n",
    "    median_m.append(median_new_m)\n",
    "    \n",
    "    \n",
    "median_all = []\n",
    "\n",
    "for i in years:\n",
    "    new_all2 = df_final[df_final[\"Year\"]== i]\n",
    "    median_new_all = new_all2.Mins.median()\n",
    "    median_all.append(median_new_all)   \n",
    "\n",
    "       "
   ]
  },
  {
   "cell_type": "code",
   "execution_count": null,
   "metadata": {},
   "outputs": [],
   "source": [
    "# Now we plot Median times\n",
    "\n",
    "plt.plot(years, median_w)\n",
    "plt.plot(years, median_m)\n",
    "plt.plot(years, median_all)\n",
    "\n",
    "plt.legend(['Median Woman','Median Man', \"Median All\"], loc='upper left')\n",
    "plt.show()"
   ]
  },
  {
   "cell_type": "code",
   "execution_count": null,
   "metadata": {},
   "outputs": [],
   "source": [
    "# Top times evolution\n",
    "\n",
    "plt.plot(years, best_m)\n",
    "plt.plot(years, best_w)\n",
    "\n",
    "plt.legend(['best Man','best Woman'], loc='upper right')\n",
    "plt.show()"
   ]
  },
  {
   "cell_type": "markdown",
   "metadata": {},
   "source": [
    "### Man x Woman boxplots"
   ]
  },
  {
   "cell_type": "code",
   "execution_count": null,
   "metadata": {},
   "outputs": [],
   "source": [
    "sns.boxplot(x='Year', y='Mins', data=df_man)\n",
    "\n",
    "# This plot includes all the times over years"
   ]
  },
  {
   "cell_type": "code",
   "execution_count": null,
   "metadata": {},
   "outputs": [],
   "source": [
    "sns.boxplot(x='Year', y='Mins', data=df_woman)"
   ]
  },
  {
   "cell_type": "code",
   "execution_count": null,
   "metadata": {},
   "outputs": [],
   "source": [
    "# In this plot there are both Women and Men over years \n",
    "\n",
    "plt.rcParams[\"figure.figsize\"]=(18,12)\n",
    "\n",
    "sns.boxplot(x=\"Year\", y=\"Mins\",\n",
    "            hue=\"Gender\", palette=[\"b\", \"r\"],\n",
    "            data=df_genders)\n",
    "sns.despine(offset=10, trim=True)"
   ]
  },
  {
   "cell_type": "markdown",
   "metadata": {},
   "source": [
    "### Histograms\n",
    "###### Years 1995, 2019 and Total"
   ]
  },
  {
   "cell_type": "code",
   "execution_count": null,
   "metadata": {},
   "outputs": [],
   "source": [
    "hist_1995 = df_final[df_final[\"Year\"] == 1995].Mins\n",
    "plt.hist(hist_1995, bins=30)"
   ]
  },
  {
   "cell_type": "markdown",
   "metadata": {},
   "source": [
    "This Histogram doesn't produce perfect normal distribution due to less amount of Runners and the time limitation of 5 hours."
   ]
  },
  {
   "cell_type": "code",
   "execution_count": null,
   "metadata": {},
   "outputs": [],
   "source": [
    "hist_2019 = df_final[df_final[\"Year\"] == 2019].Mins\n",
    "plt.hist(hist_2019, bins=30)"
   ]
  },
  {
   "cell_type": "code",
   "execution_count": null,
   "metadata": {},
   "outputs": [],
   "source": [
    "hist_all = df_final.Mins\n",
    "plt.hist(hist_all, bins=30)"
   ]
  },
  {
   "cell_type": "markdown",
   "metadata": {},
   "source": [
    "In this case, there is possible bias, because there were different limitations for maximal time of Run over years (5-7 hours)"
   ]
  },
  {
   "cell_type": "markdown",
   "metadata": {},
   "source": [
    "### Predictions\n",
    "##### In our Analysis we tried to figure out, whether and when Runners will break 2 hour goal (120 minutes of Run)"
   ]
  },
  {
   "cell_type": "code",
   "execution_count": null,
   "metadata": {},
   "outputs": [],
   "source": [
    "years = [1995, 1996,1997, 1998, 1999, 2000, 2001, 2002, 2003, 2004,\n",
    "         2005, 2006, 2007, 2008, 2009, 2010, 2011, \n",
    "         2013, 2014, 2015, 2016, 2017, 2018, 2019]\n",
    "\n",
    "# 2012 missing\n",
    "\n",
    "data_pred = []\n",
    "\n",
    "for i in years:\n",
    "    new_pred = df_final[df_final[\"Year\"]== i]\n",
    "    min_data_pred = new_pred.Mins.min()\n",
    "    data_pred.append(min_data_pred)\n",
    "data_pred"
   ]
  },
  {
   "cell_type": "code",
   "execution_count": null,
   "metadata": {},
   "outputs": [],
   "source": [
    "X = years\n",
    "y = data_pred\n",
    "\n",
    "gradient,intercept,r_value,p_value,std_err=stats.linregress(X,y)"
   ]
  },
  {
   "cell_type": "code",
   "execution_count": null,
   "metadata": {},
   "outputs": [],
   "source": [
    "print(\"R-squared\",r_value**2)"
   ]
  },
  {
   "cell_type": "code",
   "execution_count": null,
   "metadata": {},
   "outputs": [],
   "source": [
    "gradient"
   ]
  },
  {
   "cell_type": "code",
   "execution_count": null,
   "metadata": {},
   "outputs": [],
   "source": [
    "data = pd.DataFrame({'year': X,\n",
    "                     'value': y})\n",
    "\n",
    "p = sns.regplot(x='year',y='value',data=data, fit_reg=True)\n",
    "\n",
    "# Here we get linear regression with standard errors"
   ]
  },
  {
   "cell_type": "markdown",
   "metadata": {},
   "source": [
    "### Two Hour Goal\n",
    "##### In this plot we rtry to predict whether the Runners will achieve their time better than 2 hours.\n",
    "##### If they followed this simple linear trend, it would happen around 2054."
   ]
  },
  {
   "cell_type": "code",
   "execution_count": null,
   "metadata": {},
   "outputs": [],
   "source": [
    "plt.rcParams[\"figure.figsize\"]=(20,6)\n",
    "\n",
    "plt.plot(years[0:len(years)-5], best_m)\n",
    "plt.plot([1996, 2065], [intercept + 1996*gradient, intercept+2065*gradient])\n",
    "\n",
    "plt.axhline(y=120, color='r', linestyle='-')\n",
    "# plt.legend(['best Man'], loc='upper right')\n",
    "\n",
    "plt.show()"
   ]
  }
 ],
 "metadata": {
  "kernelspec": {
   "display_name": "Python 3",
   "language": "python",
   "name": "python3"
  },
  "language_info": {
   "codemirror_mode": {
    "name": "ipython",
    "version": 3
   },
   "file_extension": ".py",
   "mimetype": "text/x-python",
   "name": "python",
   "nbconvert_exporter": "python",
   "pygments_lexer": "ipython3",
   "version": "3.7.3"
  }
 },
 "nbformat": 4,
 "nbformat_minor": 2
}
