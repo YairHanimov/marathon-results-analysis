{
 "cells": [
  {
   "cell_type": "markdown",
   "metadata": {},
   "source": [
    "# WIP\n",
    "## IES - Python - Project\n",
    "### Marathon Results\n",
    "### Data analysis\n",
    "#### David Koubek, Jiri Zelenka"
   ]
  },
  {
   "cell_type": "code",
   "execution_count": null,
   "metadata": {},
   "outputs": [],
   "source": []
  },
  {
   "cell_type": "markdown",
   "metadata": {},
   "source": [
    "### Content\n",
    "#### Import Required Packages\n",
    "#### Data Loading + Merging\n",
    "#### Technical Improvements:\n",
    "##### - Renaming Columns + Adding Gender\n",
    "##### - Cleaning Time + Adding Minutes\n",
    "##### - Cleaning Names of Runners\n",
    "-------------------------------------\n",
    "#### Unique Countries, Names and Ages\n",
    "#### Runners who Repeated Marathon\n",
    "#### Percentage of Czechs Over Time\n",
    "-------------------------------------\n",
    "#### Pivot tables - Year x Gender\n",
    "###### Min rank\n",
    "###### Min time\n",
    "###### Mean time\n",
    "-------------------------------------\n",
    "#### Medals\n",
    "-------------------------------------\n",
    "#### M/W Histograms over years"
   ]
  },
  {
   "cell_type": "code",
   "execution_count": null,
   "metadata": {},
   "outputs": [],
   "source": []
  },
  {
   "cell_type": "markdown",
   "metadata": {},
   "source": [
    "### Import required packages."
   ]
  },
  {
   "cell_type": "code",
   "execution_count": null,
   "metadata": {},
   "outputs": [],
   "source": [
    "import pandas as pd # for dataframe\n",
    "import numpy as np  # working with arrays\n",
    "import matplotlib.pyplot as plt  # Basic plots\n",
    "import seaborn as sns   # Plots, boxplots\n",
    "\n",
    "from collections import Counter"
   ]
  },
  {
   "cell_type": "markdown",
   "metadata": {},
   "source": [
    "### Data loading + Merging\n",
    "\n",
    "#### 1995 - 2019 (excluding 2012)"
   ]
  },
  {
   "cell_type": "code",
   "execution_count": null,
   "metadata": {},
   "outputs": [],
   "source": [
    "years = [1995, 1996, 1997, 1998, 1999, 2000, 2001, 2002, 2003, 2004,\n",
    "         2005, 2006, 2007, 2008, 2009, 2010, 2011, # 2012 is missing !!!, 24 runs\n",
    "         2013, 2014, 2015, 2016, 2017, 2018, 2019]\n",
    "\n",
    "df_all = []\n",
    "\n",
    "for i in years:\n",
    "    df = pd.read_csv('../Scraper/Data_Marathons_Prague/data_' + str(i) + '.csv')\n",
    "    df[\"Year\"] = i\n",
    "    df_all.append(df)\n",
    "    \n",
    "#  this creates a list of dfs, possible to get inside with indexes [1]...\n",
    "\n",
    "\n",
    "df_merged = pd.concat(df_all, ignore_index=True)   # Important for obtaining overall index\n",
    "\n",
    "len(df_merged)"
   ]
  },
  {
   "cell_type": "code",
   "execution_count": null,
   "metadata": {},
   "outputs": [],
   "source": [
    "df_merged.head()\n",
    "# df_merged.tail()"
   ]
  },
  {
   "cell_type": "markdown",
   "metadata": {},
   "source": [
    "### Technical Improvements\n",
    "\n",
    "#### Renaming Columns + Adding Gender\n",
    "#### Cleaning Time + Adding Minutes\n",
    "#### Cleaning Names of Runners"
   ]
  },
  {
   "cell_type": "code",
   "execution_count": null,
   "metadata": {},
   "outputs": [],
   "source": [
    "\n",
    "### Renaming Columns\n",
    "\n",
    "df_renamed = df_merged.rename(columns={\"Age cat.\":\"Age\", \"Chip time\":\"Time\",\"St. number\":\"Start_number\"  })\n",
    "\n",
    "## Adding Gender column  \n",
    "\n",
    "df_renamed[\"Gender\"] = df_renamed[\"Age\"].astype(str).str[0]\n",
    "\n",
    "# df_renamed.head()\n",
    "df_renamed.tail()"
   ]
  },
  {
   "cell_type": "code",
   "execution_count": null,
   "metadata": {},
   "outputs": [],
   "source": [
    "\n",
    "### Time Cleaning\n",
    "\n",
    "    # Deleting 288 observations with time = \"-\" - mostly from year 1998, reason of this = ???\n",
    "df_times = df_renamed[df_renamed.Time != \"-\"]\n",
    "\n",
    "df_times.reset_index(drop = True,inplace=True)\n",
    "\n",
    "    # Check for non-\"-\" times\n",
    "times = df_times[\"Time\"]\n",
    "times.describe()\n",
    "\n",
    "len(df_times)\n",
    "\n",
    "# Keep working with 94 011 Runners = df_times\n"
   ]
  },
  {
   "cell_type": "code",
   "execution_count": null,
   "metadata": {},
   "outputs": [],
   "source": [
    "\n",
    "### Counting minutes from Total time\n",
    "\n",
    "tot_min = []\n",
    "times = list(times)\n",
    "\n",
    "for i in times:\n",
    "    t=i.split(':')\n",
    "    tot_min.append(int(t[0])*60+int(t[1])*1 +int(t[2])/60)\n",
    "    \n",
    "# len(tot_min)\n",
    "tot_min = pd.DataFrame(tot_min)\n",
    "\n",
    "df_mins = pd.concat([df_times, tot_min], axis=1)\n",
    "df_mins = df_mins.rename(columns={0:\"tot_mins\"})\n"
   ]
  },
  {
   "cell_type": "code",
   "execution_count": null,
   "metadata": {},
   "outputs": [],
   "source": [
    "    # List of roudned minutes\n",
    "\n",
    "Mins = list(np.around(np.array(tot_min),0))\n",
    "Mins = pd.DataFrame(Mins)\n",
    "\n",
    "df_mins = pd.concat([df_mins, Mins], axis=1)\n",
    "df_mins = df_mins.rename(columns={0:\"Mins\"})\n",
    "\n",
    "df_mins.head()\n",
    "# df_mins.tail()\n",
    "\n",
    "# Keep working with Dataframe including rounded minutes = df_mins\n"
   ]
  },
  {
   "cell_type": "code",
   "execution_count": null,
   "metadata": {},
   "outputs": [],
   "source": [
    "\n",
    "###  Cleaning Names:\n",
    "\n",
    "all_names = list(df_mins.Name)\n",
    "\n",
    "#print(sorted(all_names))\n",
    "\n",
    "print(sorted(all_names)[0:500])\n",
    "print(sorted(all_names)[len(all_names)-500:len(all_names)])\n",
    "\n",
    "    # In the head we can see some names starting with spaces or dots - we will transform them.\n",
    "    # In the tail there are names of Russian, Israeili, Chiense or Japanese Runners.\n",
    "    # There are not so many of them, we keep them in original form\n"
   ]
  },
  {
   "cell_type": "code",
   "execution_count": null,
   "metadata": {},
   "outputs": [],
   "source": [
    "indd = df_mins.index[df_mins['Name'] == ' Peter Puškár                   '].tolist()\n",
    "df_mins.loc[indd,'Name'] = \"Peter Puškár\"\n",
    "indd = df_mins.index[df_mins['Name'] == ' Radek Podracký               '].tolist()\n",
    "df_mins.loc[indd,'Name'] = \"Radek Podracký\"\n",
    "indd = df_mins.index[df_mins['Name'] == ' STEINIVAR'].tolist()\n",
    "df_mins.loc[indd,'Name'] = \"STEINIVAR\"\n",
    "indd = df_mins.index[df_mins['Name'] == ',Jiří Stránský Judr.'].tolist()\n",
    "df_mins.loc[indd,'Name'] = \"Jiří Stránský Judr.\"\n",
    "indd = df_mins.index[df_mins['Name'] == '.Jiří Nekuža'].tolist()\n",
    "df_mins.loc[indd,'Name'] = \"Jiří Nekuža\"\n",
    "indd = df_mins.index[df_mins['Name'] == '- 50008873'].tolist()\n",
    "df_mins.loc[indd,'Name'] = \"- -\"\n",
    "indd = df_mins.index[df_mins['Name'] == '- 50044654'].tolist()\n",
    "df_mins.loc[indd,'Name'] = \"- -\"\n",
    "indd = df_mins.index[df_mins['Name'] == '?IVIND JOHANSEN'].tolist()\n",
    "df_mins.loc[indd,'Name'] = \"IVIND JOHANSEN\"\n",
    "indd = df_mins.index[df_mins['Name'] == '\\u202aesty rosenberg\\u202c\\u200f'].tolist()\n",
    "df_mins.loc[indd,'Name'] = \"aesty rosenberg\"\n",
    "indd = df_mins.index[df_mins['Name'] == '\\u202aron gashri\\u202c\\u200f'].tolist()\n",
    "df_mins.loc[indd,'Name'] = \"aron gashri\"\n",
    "indd = df_mins.index[df_mins['Name'] == 'ＨＩＲＯＫＯ ＫＵＳＵＮＯＫＩ'].tolist()\n",
    "df_mins.loc[indd,'Name'] = \"Hiroko Kusunoki\"\n",
    "indd = df_mins.index[df_mins['Name'] == 'ＨＩＲＯＫＯ ＳＨＩＮＯＭＩＹＡ'].tolist()\n",
    "df_mins.loc[indd,'Name'] = \"Hiroko Shinomiya\"\n",
    "indd = df_mins.index[df_mins['Name'] == 'ＨＩＲＯＭＩ ＹＯＮＥＺＵ'].tolist()\n",
    "df_mins.loc[indd,'Name'] = \"Hiromi Yonezu\"\n",
    "indd = df_mins.index[df_mins['Name'] == 'ＪＵＮＫＯ ＮＩＳＨＩＯＫＡ'].tolist()\n",
    "df_mins.loc[indd,'Name'] = \"Junko Nishioka\"\n",
    "indd = df_mins.index[df_mins['Name'] == 'ＫＩＳＡＫＯ ＴＯＫＯ'].tolist()\n",
    "df_mins.loc[indd,'Name'] = \"Kisako Toko\"\n",
    "indd = df_mins.index[df_mins['Name'] == 'ＫＩＹＯＫＯ ＫＡＷＡＳＡＫＩ'].tolist()\n",
    "df_mins.loc[indd,'Name'] = \"Kiyoko Kawasaki\"\n",
    "indd = df_mins.index[df_mins['Name'] == 'ＭＡＳＡＫＯ ＯＮＩＳＨＩ'].tolist()\n",
    "df_mins.loc[indd,'Name'] = \"Masako Onishi\"\n",
    "indd = df_mins.index[df_mins['Name'] == 'ＭＩＥＫＯ ＴＳＵＪＩＯＫＡ'].tolist()\n",
    "df_mins.loc[indd,'Name'] = \"Mieko Tsujioka\""
   ]
  },
  {
   "cell_type": "code",
   "execution_count": null,
   "metadata": {},
   "outputs": [],
   "source": [
    "\n",
    "# Checking the names\n",
    "\n",
    "all_names_new = list(df_mins.Name)\n",
    "\n",
    "#print(sorted(all_names_new)[0:500])\n",
    "print(sorted(all_names_new)[len(all_names_new)-500:len(all_names_new)])"
   ]
  },
  {
   "cell_type": "code",
   "execution_count": null,
   "metadata": {},
   "outputs": [],
   "source": [
    "df_mins['Name'] = [str(i).lower() for i in df_mins['Name']] \n",
    "   # Changing all to lowercase\n",
    "    \n",
    "df_final = df_mins"
   ]
  },
  {
   "cell_type": "code",
   "execution_count": null,
   "metadata": {},
   "outputs": [],
   "source": [
    "df_final.tail()"
   ]
  },
  {
   "cell_type": "markdown",
   "metadata": {},
   "source": [
    "### Unique Countries, Names and Ages"
   ]
  },
  {
   "cell_type": "code",
   "execution_count": null,
   "metadata": {},
   "outputs": [],
   "source": [
    "#All unique countries:\n",
    "\n",
    "uq_countries = df_final.Nationality.unique()   \n",
    "len(uq_countries)\n",
    "\n",
    "# uq_countries"
   ]
  },
  {
   "cell_type": "code",
   "execution_count": null,
   "metadata": {},
   "outputs": [],
   "source": [
    "# All unique ages:\n",
    "\n",
    "uq_ages = df_final.Age.unique()\n",
    "len(uq_ages)\n",
    "\n",
    "# uq_ages"
   ]
  },
  {
   "cell_type": "code",
   "execution_count": null,
   "metadata": {},
   "outputs": [],
   "source": [
    "# All unique names:\n",
    "\n",
    "uq_names = df_final.Name.unique()\n",
    "len(uq_names)\n",
    "\n",
    "# uq_names"
   ]
  },
  {
   "cell_type": "markdown",
   "metadata": {},
   "source": [
    "### Runners who Repeated Marathon"
   ]
  },
  {
   "cell_type": "code",
   "execution_count": null,
   "metadata": {},
   "outputs": [],
   "source": [
    "\n",
    "############################################################################################x\n",
    "\n",
    "# Count how many names are in multiple runs (not in the same run) and in how many:\n",
    "\n",
    "all_names = list(df_final.Name)\n",
    "num_of_runs = Counter(all_names)\n",
    "\n",
    "num_of_runs.most_common()\n",
    "    # Number of repeating persons.\n",
    "    # However, yet we cant say which of them come from the same year (\"Petr Svoboda\"),\n",
    "    # and who repeated several Runs (\"jack joseph michel brossaud\")"
   ]
  },
  {
   "cell_type": "markdown",
   "metadata": {},
   "source": [
    "### Percentage of Czechs Over Time"
   ]
  },
  {
   "cell_type": "code",
   "execution_count": null,
   "metadata": {},
   "outputs": [],
   "source": [
    "# Percentage of Czechs\n",
    "\n",
    "# After inspecting each year, we noticed of the occurence of \"TCH\"\n",
    "# instead of \"CZE\" in Nationality column.\n",
    "\n",
    "# 1995 - no nationalities\n",
    "# 1996 2x CZE + 0x TCH\n",
    "# 1997 1x CZE + 727x TCH\n",
    "# 1998 1x CZE + 1045x TCH\n",
    "# 1999 986x CZE + 0x TCH\n",
    "# ... CZE only\n",
    "\n",
    "\n",
    "# Replacing all \"TCH\" with \"CZE\"\n",
    "\n",
    "df_final['Nationality'] = df_final['Nationality'].replace('TCH', 'CZE')"
   ]
  },
  {
   "cell_type": "code",
   "execution_count": null,
   "metadata": {},
   "outputs": [],
   "source": [
    "years = [1997, 1998, 1999, 2000, 2001, 2002, 2003, 2004,\n",
    "         2005, 2006, 2007, 2008, 2009, 2010, 2011, \n",
    "         2013, 2014, 2015, 2016, 2017, 2018, 2019]\n",
    "\n",
    "# 2012 is missing, 1995 and 1996 is excluded, 22 runs"
   ]
  },
  {
   "cell_type": "code",
   "execution_count": null,
   "metadata": {},
   "outputs": [],
   "source": [
    "# Percents of czech Runners over years 1997-2019\n",
    "\n",
    "cz_percent = []\n",
    "for year in years:\n",
    "    \n",
    "    cz = len(df_final[(df_final[\"Nationality\"] == \"CZE\") & (df_final[\"Year\"] == year)])\n",
    "    alls = len(df_final[df_final[\"Year\"] == year])\n",
    "    per = cz/alls\n",
    "    cz_percent.append(per)\n",
    "    \n",
    "cz_percent"
   ]
  },
  {
   "cell_type": "code",
   "execution_count": null,
   "metadata": {},
   "outputs": [],
   "source": [
    "czechs = df_final[df_final[\"Nationality\"] == \"CZE\"]\n",
    "len(czechs)/len(df_final)\n",
    "\n",
    "# Overall percentage of czech Runners = 46.2 %\n"
   ]
  },
  {
   "cell_type": "code",
   "execution_count": null,
   "metadata": {},
   "outputs": [],
   "source": [
    "plt.plot(years,cz_percent)\n",
    "plt.show()"
   ]
  },
  {
   "cell_type": "markdown",
   "metadata": {},
   "source": [
    "### Pivot tables 1/3\n",
    "\n",
    "##### Gender and Years\n",
    "\n",
    "##### -> Min + Mean rank\n",
    "##### -> Min + Mean time\n"
   ]
  },
  {
   "cell_type": "code",
   "execution_count": null,
   "metadata": {},
   "outputs": [],
   "source": [
    "# This table shows the top ranks of M and W of the ovreall ranks in year\n",
    "# Here we can see that the top woman take place about 20 of all the Runners\n",
    "\n",
    "df_genders = df_final[df_final[\"Gender\"] != \"-\"]\n",
    "pd.pivot_table(df_genders,index=[\"Gender\"],columns = [\"Year\"], values=\"Rank\",aggfunc=np.min)"
   ]
  },
  {
   "cell_type": "code",
   "execution_count": null,
   "metadata": {},
   "outputs": [],
   "source": [
    "# This table presents average times of W + M over years\n",
    "# Non clear Genders was excluded\n",
    "\n",
    "df_genders = df_final[df_final[\"Gender\"] != \"-\"]\n",
    "pd.pivot_table(df_genders,index=[\"Gender\"],columns = [\"Year\"], values=\"Mins\",aggfunc=np.mean)\n"
   ]
  },
  {
   "cell_type": "code",
   "execution_count": null,
   "metadata": {},
   "outputs": [],
   "source": [
    "# This table presents minimum times of W + M over years\n",
    "# Non clear Genders was excluded\n",
    "\n",
    "df_genders = df_final[df_final[\"Gender\"] != \"-\"]\n",
    "pd.pivot_table(df_genders,index=[\"Gender\"],columns = [\"Year\"], values=\"Mins\",aggfunc=np.min)\n"
   ]
  },
  {
   "cell_type": "code",
   "execution_count": null,
   "metadata": {},
   "outputs": [],
   "source": [
    "\n",
    "## Let's plot Minimum and Mean times 1996-2019\n",
    "\n",
    "df_man = df_final[df_final[\"Gender\"] == \"M\"]\n",
    "df_woman = df_final[df_final[\"Gender\"] == \"W\"]\n",
    "\n",
    "years = [1996,1997, 1998, 1999, 2000, 2001, 2002, 2003, 2004,\n",
    "         2005, 2006, 2007, 2008, 2009, 2010, 2011, \n",
    "         2013, 2014, 2015, 2016, 2017, 2018, 2019]\n",
    "\n",
    "# 2012 is missing, 1995 is excluded because of no Genders, 23 runs\n",
    "\n",
    "\n",
    "best_w = []\n",
    "\n",
    "for i in years:\n",
    "    new_w = df_woman[df_woman[\"Year\"]== i]\n",
    "    min_new_w = new_w.Mins.min()\n",
    "    best_w.append(min_new_w)\n",
    "\n",
    "best_m = []\n",
    "\n",
    "for i in years:\n",
    "    new_m = df_man[df_man[\"Year\"]== i]\n",
    "    min_new_m = new_m.Mins.min()\n",
    "    best_m.append(min_new_m)\n",
    "    \n",
    "#-----------------------------------------\n",
    "    \n",
    "mean_w = []\n",
    "\n",
    "for i in years:\n",
    "    new_w = df_woman[df_woman[\"Year\"]== i]\n",
    "    mean_new_w = new_w.Mins.mean()\n",
    "    mean_w.append(mean_new_w)\n",
    "\n",
    "mean_m = []\n",
    "\n",
    "for i in years:\n",
    "    new_m = df_man[df_man[\"Year\"]== i]\n",
    "    mean_new_m = new_m.Mins.mean()\n",
    "    mean_m.append(mean_new_m)\n",
    "    "
   ]
  },
  {
   "cell_type": "code",
   "execution_count": null,
   "metadata": {},
   "outputs": [],
   "source": [
    "# Average times evolution\n",
    "\n",
    "plt.plot(years, mean_m)\n",
    "plt.plot(years, mean_w)\n",
    "plt.legend(['mean Man','mean Woman'], loc='upper left')\n",
    "plt.show()\n",
    "\n",
    "### Zásadní otázka, proč mám díru 2000 a naopak nemám díru 2012 ?\n",
    "# Dá se to vyřešit opětovným reindexováním?"
   ]
  },
  {
   "cell_type": "code",
   "execution_count": null,
   "metadata": {},
   "outputs": [],
   "source": [
    "# Top times evolution\n",
    "\n",
    "plt.plot(years, best_m)\n",
    "plt.plot(years, best_w)\n",
    "plt.legend(['best Man','best Woman'], loc='upper right')\n",
    "plt.show()"
   ]
  },
  {
   "cell_type": "code",
   "execution_count": null,
   "metadata": {},
   "outputs": [],
   "source": []
  },
  {
   "cell_type": "code",
   "execution_count": null,
   "metadata": {},
   "outputs": [],
   "source": [
    "sns.boxplot(x='Year', y='Mins', data=df_man)\n"
   ]
  },
  {
   "cell_type": "code",
   "execution_count": null,
   "metadata": {},
   "outputs": [],
   "source": [
    "sns.boxplot(x='Year', y='Mins', data=df_woman)"
   ]
  },
  {
   "cell_type": "code",
   "execution_count": null,
   "metadata": {},
   "outputs": [],
   "source": [
    "box_man = df_man['Mins']\n",
    "box_woman = df_woman['Mins']\n",
    "fig = plt.figure()\n",
    "ax = fig.add_subplot(111)\n",
    "ax.boxplot([box_man,box_woman], labels=['M', 'W'])"
   ]
  },
  {
   "cell_type": "code",
   "execution_count": null,
   "metadata": {},
   "outputs": [],
   "source": [
    "\n",
    "sns.boxplot(x=\"Year\", y=\"Mins\",\n",
    "            hue=\"Gender\", palette=[\"m\", \"g\"],\n",
    "            data=df_genders)\n",
    "sns.despine(offset=10, trim=True)"
   ]
  },
  {
   "cell_type": "code",
   "execution_count": null,
   "metadata": {},
   "outputs": [],
   "source": []
  },
  {
   "cell_type": "markdown",
   "metadata": {},
   "source": [
    "### Pivot tables 2/3\n",
    "\n",
    "##### Nationality\n",
    "\n",
    "##### -> Min + Mean rank\n",
    "##### -> Min + Mean time\n"
   ]
  },
  {
   "cell_type": "code",
   "execution_count": null,
   "metadata": {},
   "outputs": [],
   "source": [
    "df_nations = df_final[df_final[\"Nationality\"] != \"-\"]\n",
    "pd.pivot_table(df_nations,index=[\"Nationality\"],columns = [\"Year\"], values=\"Rank\",aggfunc=np.min)"
   ]
  },
  {
   "cell_type": "code",
   "execution_count": null,
   "metadata": {},
   "outputs": [],
   "source": [
    "\n",
    "pd.pivot_table(df_nations,index=[\"Nationality\"],columns = [\"Year\"], values=\"Mins\",aggfunc=np.mean)\n"
   ]
  },
  {
   "cell_type": "code",
   "execution_count": null,
   "metadata": {},
   "outputs": [],
   "source": [
    "pd.pivot_table(df_nations,index=[\"Nationality\"],columns = [\"Year\"], values=\"Mins\",aggfunc=np.min)\n"
   ]
  },
  {
   "cell_type": "code",
   "execution_count": null,
   "metadata": {},
   "outputs": [],
   "source": [
    "\n",
    "\n",
    "########################################################################xx\n",
    "uq_countries = uq_countries[uq_countries != \"-\"]\n",
    "# uq_countries\n",
    "\n",
    "national_means = []\n",
    "\n",
    "for i in uq_countries:\n",
    "        country = df_nations[df_nations[\"Nationality\"]== i]\n",
    "        country_mean = country.Mins.mean()\n",
    "        national_means.append(country_mean)\n",
    "\n",
    "print(national_means)"
   ]
  },
  {
   "cell_type": "code",
   "execution_count": null,
   "metadata": {},
   "outputs": [],
   "source": [
    "plt.plot(national_means)\n",
    "plt.show()"
   ]
  },
  {
   "cell_type": "markdown",
   "metadata": {},
   "source": [
    "### Pivot tables 3/3\n",
    "\n",
    "##### Age and Years\n",
    "\n",
    "##### -> Min + Mean rank\n",
    "##### -> Min + Mean time\n"
   ]
  },
  {
   "cell_type": "code",
   "execution_count": null,
   "metadata": {},
   "outputs": [],
   "source": []
  },
  {
   "cell_type": "code",
   "execution_count": null,
   "metadata": {},
   "outputs": [],
   "source": [
    "uq_countries"
   ]
  },
  {
   "cell_type": "markdown",
   "metadata": {},
   "source": [
    "### Medals"
   ]
  },
  {
   "cell_type": "code",
   "execution_count": null,
   "metadata": {},
   "outputs": [],
   "source": [
    "# Here we count number of Gold/Silver/Bronze Medals for each country, W/M\n",
    "\n",
    "medals = uq_countries\n",
    "\n",
    "counter_g = 0\n",
    "counter_s = 0\n",
    "coutner_b = 0\n",
    "\n",
    "for abc in uq_countries:\n",
    "    if [(df_nations[\"Rank\"]==1) & (df_nations[\"Nationality\"]== abc)]:\n",
    "        counter_g = counter_g+1\n",
    "    elif [(df_nations[\"Rank\"]==2) & (df_nations[\"Nationality\"]== abc)]:\n",
    "        counter_s = counter_s+1\n",
    "    elif [(df_nations[\"Rank\"]==3) & (df_nations[\"Nationality\"]== abc)]:\n",
    "        counter_b = counter_b+1\n",
    "    else:\n",
    "    medals.append(counter_g, counter_s, counter_b)\n",
    "    \n",
    "    ########################################################################\n",
    "    ##Nedaří se mi uložit medaile...."
   ]
  }
 ],
 "metadata": {
  "kernelspec": {
   "display_name": "Python 3",
   "language": "python",
   "name": "python3"
  },
  "language_info": {
   "codemirror_mode": {
    "name": "ipython",
    "version": 3
   },
   "file_extension": ".py",
   "mimetype": "text/x-python",
   "name": "python",
   "nbconvert_exporter": "python",
   "pygments_lexer": "ipython3",
   "version": "3.6.5"
  }
 },
 "nbformat": 4,
 "nbformat_minor": 2
}
